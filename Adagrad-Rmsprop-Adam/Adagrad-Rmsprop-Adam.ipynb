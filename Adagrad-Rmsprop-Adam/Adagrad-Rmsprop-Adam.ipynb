{
 "cells": [
  {
   "cell_type": "markdown",
   "metadata": {},
   "source": [
    "## mini-batch gradient descent"
   ]
  },
  {
   "cell_type": "code",
   "execution_count": 76,
   "metadata": {},
   "outputs": [],
   "source": [
    "import numpy as np\n",
    "import matplotlib.pyplot as plt\n",
    "from sklearn.metrics import r2_score\n",
    "np.random.seed(200)"
   ]
  },
  {
   "cell_type": "code",
   "execution_count": 2,
   "metadata": {},
   "outputs": [
    {
     "data": {
      "text/plain": [
       "((50, 1), (50, 1))"
      ]
     },
     "execution_count": 2,
     "metadata": {},
     "output_type": "execute_result"
    }
   ],
   "source": [
    "x_vals = np.linspace(0,20).reshape(-1,1)\n",
    "y_vals = -2*x_vals + 1\n",
    "x_vals.shape , y_vals.shape"
   ]
  },
  {
   "cell_type": "code",
   "execution_count": 3,
   "metadata": {},
   "outputs": [
    {
     "data": {
      "image/png": "[encoded data removed]",
      "text/plain": [
       "<Figure size 432x288 with 1 Axes>"
      ]
     },
     "metadata": {
      "needs_background": "light"
     },
     "output_type": "display_data"
    }
   ],
   "source": [
    "plt.scatter(x_vals,y_vals);"
   ]
  },
  {
   "cell_type": "code",
   "execution_count": 4,
   "metadata": {},
   "outputs": [],
   "source": [
    "def intialize_params(X):\n",
    "    theta0 = 0\n",
    "    theta1 = 0\n",
    "    m = X.shape[0]\n",
    "    \n",
    "    return theta0,theta1,m\n",
    "\n",
    "def hyp(theta_0,theta_1,X):\n",
    "    return theta_0 + theta_1*X\n",
    "\n",
    "def compute_cost(theta0,theta1,X,Y,m):\n",
    "    return (1/(2*m))*np.sum((hyp(theta0,theta1,X)-Y)**2)\n",
    "\n",
    "def grads(theta0,theta1,X,Y,m):\n",
    "    dtheta0 = (1/m)*np.sum(hyp(theta0,theta1,X)-Y)\n",
    "    dtheta1 = float((1/m)*X.T.dot(hyp(theta0,theta1,X)-Y))\n",
    "    \n",
    "    return dtheta0,dtheta1\n",
    "\n",
    "def update_params(theta0,theta1,learning_rate,dtheta0,dtheta1):\n",
    "    theta0 = theta0 - learning_rate*dtheta0;\n",
    "    theta1 = theta1 - learning_rate*dtheta1;\n",
    "    \n",
    "    return theta0, theta1"
   ]
  },
  {
   "cell_type": "code",
   "execution_count": 5,
   "metadata": {},
   "outputs": [],
   "source": [
    "def fit_model(X,y,lr,tolerance):\n",
    "    #intialize params\n",
    "    theta0,theta1,m = intialize_params(X)\n",
    "    \n",
    "    # values for plotting\n",
    "    costs = []\n",
    "    theta0_list = []\n",
    "    theta1_list = []\n",
    "    all_hyp = []\n",
    "    iters =0\n",
    "\n",
    "    while(True):\n",
    "        \n",
    "        all_hyp.append(hyp(theta0,theta1,X))\n",
    "        # 1-calculate loss\n",
    "        cost_old = compute_cost(theta0,theta1,X,y,m)\n",
    "        # 2-calculate grads\n",
    "        dtheta0,dtheta1 = grads(theta0,theta1,X,y,m)\n",
    "        # 3-update params\n",
    "        theta0 , theta1 = update_params(theta0,theta1,lr,dtheta0,dtheta1)\n",
    "        \n",
    "        theta0_list.append(theta0)\n",
    "        theta1_list.append(theta1)\n",
    "        \n",
    "        # calculate cost after update\n",
    "        cost_new = compute_cost(theta0,theta1,X,y,m)\n",
    "        costs.append(cost_new)\n",
    "        \n",
    "        iters += 1\n",
    "        if(abs(cost_old-cost_new)<=tolerance):\n",
    "            break\n",
    "        \n",
    "        return_dict = {\n",
    "            \"theta0\":theta0,\n",
    "            \"theta1\":theta1,\n",
    "            \"costs\":costs,\n",
    "            \"theta0_list\":theta0_list,\n",
    "            \"theta1_list\":theta1_list,\n",
    "            \"iters\":iters\n",
    "        }\n",
    "    return return_dict\n",
    "\n"
   ]
  },
  {
   "cell_type": "code",
   "execution_count": 6,
   "metadata": {},
   "outputs": [
    {
     "data": {
      "text/plain": [
       "(-0.12697538422875626, -1.9153106460559446, 53)"
      ]
     },
     "execution_count": 6,
     "metadata": {},
     "output_type": "execute_result"
    }
   ],
   "source": [
    "output = fit_model(x_vals,y_vals,0.001,1e-4)\n",
    "theta0,theta1,iters = output[\"theta0\"],output[\"theta1\"],output[\"iters\"]\n",
    "theta0,theta1,iters"
   ]
  },
  {
   "cell_type": "code",
   "execution_count": 7,
   "metadata": {},
   "outputs": [
    {
     "data": {
      "text/plain": [
       "0.997428488059943"
      ]
     },
     "execution_count": 7,
     "metadata": {},
     "output_type": "execute_result"
    }
   ],
   "source": [
    "predictions = hyp(output[\"theta0\"],output[\"theta1\"],x_vals)\n",
    "r2_score(predictions,y_vals)"
   ]
  },
  {
   "cell_type": "code",
   "execution_count": 8,
   "metadata": {},
   "outputs": [
    {
     "data": {
      "image/png": "[encoded data removed]",
      "text/plain": [
       "<Figure size 432x288 with 1 Axes>"
      ]
     },
     "metadata": {
      "needs_background": "light"
     },
     "output_type": "display_data"
    }
   ],
   "source": [
    "plt.scatter(x_vals,y_vals)\n",
    "\n",
    "plot_y = hyp(output[\"theta0\"],output[\"theta1\"],x_vals)\n",
    "plt.plot(x_vals,plot_y);"
   ]
  },
  {
   "cell_type": "markdown",
   "metadata": {},
   "source": [
    "## AdaGrad"
   ]
  },
  {
   "cell_type": "code",
   "execution_count": 9,
   "metadata": {},
   "outputs": [],
   "source": [
    "def vt_adagrad(vt0_old,vt1_old,dtheta0,dtheta1):\n",
    "    vt0 = vt0_old + dtheta0**2\n",
    "    vt1 = vt1_old + dtheta1**2\n",
    "    return vt0,vt1\n",
    "\n",
    "def update_params_adagrad(theta0,theta1,lr,vt0,vt1,dtheta0,dtheta1):\n",
    "    theta0 = theta0 - lr/np.sqrt(vt0+1e-8)*dtheta0\n",
    "    theta1 = theta1 - lr/np.sqrt(vt1+1e-8)*dtheta1\n",
    "    return theta0,theta1"
   ]
  },
  {
   "cell_type": "code",
   "execution_count": 10,
   "metadata": {},
   "outputs": [],
   "source": [
    "def fit_model_adagrad(X,y,lr,tolerance):\n",
    "    #intialize params\n",
    "    theta0,theta1,m = intialize_params(X)\n",
    "    \n",
    "    # values for plotting\n",
    "    costs = []\n",
    "    theta0_list = []\n",
    "    theta1_list = []\n",
    "    all_hyp = []\n",
    "    iters =0\n",
    "    \n",
    "    vt0 =0\n",
    "    vt1 =0\n",
    "\n",
    "    while(True):\n",
    "        \n",
    "        all_hyp.append(hyp(theta0,theta1,X))\n",
    "        # 1-calculate loss\n",
    "        cost_old = compute_cost(theta0,theta1,X,y,m)\n",
    "        # 2-calculate grads\n",
    "        dtheta0,dtheta1 = grads(theta0,theta1,X,y,m)\n",
    "        # 3-calculate vt\n",
    "        vt0,vt1 = vt_adagrad(vt0,vt1,dtheta0,dtheta1)\n",
    "        # 4-update params\n",
    "        theta0 , theta1 = update_params_adagrad(theta0,theta1,lr,vt0,vt1,dtheta0,dtheta1)\n",
    "        \n",
    "        theta0_list.append(theta0)\n",
    "        theta1_list.append(theta1)\n",
    "        \n",
    "        # calculate cost after update\n",
    "        cost_new = compute_cost(theta0,theta1,X,y,m)\n",
    "        costs.append(cost_new)\n",
    "        \n",
    "        iters += 1\n",
    "        \n",
    "        if(np.linalg.norm(np.array([dtheta0,dtheta1]))<=tolerance):\n",
    "            break\n",
    "        elif(abs(cost_new-cost_old)<=tolerance):\n",
    "            break\n",
    "        \n",
    "        return_dict = {\n",
    "            \"theta0\":theta0,\n",
    "            \"theta1\":theta1,\n",
    "            \"costs\":costs,\n",
    "            \"theta0_list\":theta0_list,\n",
    "            \"theta1_list\":theta1_list,\n",
    "            \"iters\":iters\n",
    "        }\n",
    "    return return_dict\n",
    "\n"
   ]
  },
  {
   "cell_type": "code",
   "execution_count": 11,
   "metadata": {},
   "outputs": [
    {
     "data": {
      "text/plain": [
       "(-0.25130575456205945, -1.904750095140639, 3297)"
      ]
     },
     "execution_count": 11,
     "metadata": {},
     "output_type": "execute_result"
    }
   ],
   "source": [
    "output1 = fit_model_adagrad(x_vals,y_vals,0.1,1e-4)\n",
    "theta0,theta1,iters = output1[\"theta0\"],output1[\"theta1\"],output1[\"iters\"]\n",
    "theta0,theta1,iters"
   ]
  },
  {
   "cell_type": "code",
   "execution_count": 12,
   "metadata": {},
   "outputs": [
    {
     "data": {
      "text/plain": [
       "0.9967900132275074"
      ]
     },
     "execution_count": 12,
     "metadata": {},
     "output_type": "execute_result"
    }
   ],
   "source": [
    "predictions = hyp(output1[\"theta0\"],output1[\"theta1\"],x_vals)\n",
    "r2_score(predictions,y_vals)"
   ]
  },
  {
   "cell_type": "code",
   "execution_count": 13,
   "metadata": {},
   "outputs": [
    {
     "data": {
      "image/png": "[encoded data removed]",
      "text/plain": [
       "<Figure size 432x288 with 1 Axes>"
      ]
     },
     "metadata": {
      "needs_background": "light"
     },
     "output_type": "display_data"
    }
   ],
   "source": [
    "plt.scatter(x_vals,y_vals)\n",
    "\n",
    "plot_y = hyp(output1[\"theta0\"],output1[\"theta1\"],x_vals)\n",
    "plt.plot(x_vals,plot_y,color='red');"
   ]
  },
  {
   "cell_type": "code",
   "execution_count": 14,
   "metadata": {},
   "outputs": [
    {
     "data": {
      "text/plain": [
       "(-2.0, 20.0)"
      ]
     },
     "execution_count": 14,
     "metadata": {},
     "output_type": "execute_result"
    },
    {
     "data": {
      "image/png": "[encoded data removed]",
      "text/plain": [
       "<Figure size 432x288 with 1 Axes>"
      ]
     },
     "metadata": {
      "needs_background": "light"
     },
     "output_type": "display_data"
    }
   ],
   "source": [
    "iters,costs = output1[\"iters\"],output1[\"costs\"]\n",
    "iterations = np.arange(0,iters+1)\n",
    "\n",
    "plt.plot(iterations,costs);\n",
    "plt.xlim([-2,20])"
   ]
  },
  {
   "cell_type": "markdown",
   "metadata": {},
   "source": [
    "## RMSprop"
   ]
  },
  {
   "cell_type": "code",
   "execution_count": 15,
   "metadata": {},
   "outputs": [],
   "source": [
    "def vt_rms(vt0_old,vt1_old,dtheta0,dtheta1,b):\n",
    "    vt0 = b*vt0_old + (1-b)*dtheta0**2\n",
    "    vt1 = b*vt1_old + (1-b)*dtheta1**2\n",
    "    return vt0,vt1\n",
    "\n",
    "def update_params_rms(theta0,theta1,lr,vt0,vt1,dtheta0,dtheta1):\n",
    "    theta0 = theta0 - lr/np.sqrt(vt0+1e-8)*dtheta0\n",
    "    theta1 = theta1 - lr/np.sqrt(vt1+1e-8)*dtheta1\n",
    "    return theta0,theta1"
   ]
  },
  {
   "cell_type": "code",
   "execution_count": 16,
   "metadata": {},
   "outputs": [],
   "source": [
    "def fit_model_rms(X,y,lr,tolerance,b):\n",
    "    #intialize params\n",
    "    theta0,theta1,m = intialize_params(X)\n",
    "    \n",
    "    # values for plotting\n",
    "    costs = []\n",
    "    theta0_list = []\n",
    "    theta1_list = []\n",
    "    all_hyp = []\n",
    "    iters =0\n",
    "    \n",
    "    vt0 =0\n",
    "    vt1 =0\n",
    "\n",
    "    while(True):\n",
    "        \n",
    "        all_hyp.append(hyp(theta0,theta1,X))\n",
    "        # 1-calculate loss\n",
    "        cost_old = compute_cost(theta0,theta1,X,y,m)\n",
    "        # 2-calculate grads\n",
    "        dtheta0,dtheta1 = grads(theta0,theta1,X,y,m)\n",
    "        # 3-calculate vt\n",
    "        vt0,vt1 = vt_rms(vt0,vt1,dtheta0,dtheta1,b)\n",
    "        # 4-update params\n",
    "        theta0 , theta1 = update_params_rms(theta0,theta1,lr,vt0,vt1,dtheta0,dtheta1)\n",
    "        \n",
    "        theta0_list.append(theta0)\n",
    "        theta1_list.append(theta1)\n",
    "        \n",
    "        # calculate cost after update\n",
    "        cost_new = compute_cost(theta0,theta1,X,y,m)\n",
    "        costs.append(cost_new)\n",
    "        \n",
    "        iters += 1\n",
    "        \n",
    "        if(np.linalg.norm(np.array([dtheta0,dtheta1]))<=tolerance):\n",
    "            break\n",
    "        elif(abs(cost_new-cost_old)<=tolerance):\n",
    "            break\n",
    "        \n",
    "        return_dict = {\n",
    "            \"theta0\":theta0,\n",
    "            \"theta1\":theta1,\n",
    "            \"costs\":costs,\n",
    "            \"theta0_list\":theta0_list,\n",
    "            \"theta1_list\":theta1_list,\n",
    "            \"iters\":iters\n",
    "        }\n",
    "    return return_dict\n",
    "\n"
   ]
  },
  {
   "cell_type": "code",
   "execution_count": 17,
   "metadata": {},
   "outputs": [
    {
     "data": {
      "text/plain": [
       "(0.44187633697157325, -2.011211132194795, 105)"
      ]
     },
     "execution_count": 17,
     "metadata": {},
     "output_type": "execute_result"
    }
   ],
   "source": [
    "output2 = fit_model_rms(x_vals,y_vals,0.1,1e-4,0.2)\n",
    "theta0,theta1,iters = output2[\"theta0\"],output2[\"theta1\"],output2[\"iters\"]\n",
    "theta0,theta1,iters"
   ]
  },
  {
   "cell_type": "code",
   "execution_count": 18,
   "metadata": {},
   "outputs": [
    {
     "data": {
      "text/plain": [
       "0.9967679244411439"
      ]
     },
     "execution_count": 18,
     "metadata": {},
     "output_type": "execute_result"
    }
   ],
   "source": [
    "predictions = hyp(output2[\"theta0\"],output2[\"theta1\"],x_vals)\n",
    "r2_score(predictions,y_vals)\n"
   ]
  },
  {
   "cell_type": "code",
   "execution_count": 19,
   "metadata": {},
   "outputs": [
    {
     "data": {
      "image/png": "[encoded data removed]",
      "text/plain": [
       "<Figure size 432x288 with 1 Axes>"
      ]
     },
     "metadata": {
      "needs_background": "light"
     },
     "output_type": "display_data"
    }
   ],
   "source": [
    "plt.scatter(x_vals,y_vals)\n",
    "\n",
    "plot_y = hyp(output2[\"theta0\"],output2[\"theta1\"],x_vals)\n",
    "plt.plot(x_vals,plot_y,color='red');"
   ]
  },
  {
   "cell_type": "markdown",
   "metadata": {},
   "source": [
    "## Adam"
   ]
  },
  {
   "cell_type": "code",
   "execution_count": 51,
   "metadata": {},
   "outputs": [],
   "source": [
    "def vt_adam(vt0_old,vt1_old,mt0_old,mt1_old,dtheta0,dtheta1,b1,b2):\n",
    "    mt0 = b1*mt0_old + (1-b1)*dtheta0\n",
    "    mt1 = b1*mt1_old + (1-b1)*dtheta1\n",
    "    \n",
    "    vt0 = b2*vt0_old + (1-b2)*dtheta0**2\n",
    "    vt1 = b2*vt1_old + (1-b2)*dtheta1**2\n",
    "    return vt0,vt1,mt0,mt1\n",
    "\n",
    "def update_params_adam(theta0,theta1,lr,vt0,vt1,mt0,mt1):\n",
    "    theta0 = theta0 - lr/np.sqrt(vt0+1e-8)*mt0\n",
    "    theta1 = theta1 - lr/np.sqrt(vt1+1e-8)*mt1\n",
    "    return theta0,theta1"
   ]
  },
  {
   "cell_type": "code",
   "execution_count": 52,
   "metadata": {},
   "outputs": [],
   "source": [
    "def fit_model_adam(X,y,lr,tolerance,b1,b2):\n",
    "    #intialize params\n",
    "    theta0,theta1,m = intialize_params(X)\n",
    "    \n",
    "    # values for plotting\n",
    "    costs = []\n",
    "    theta0_list = []\n",
    "    theta1_list = []\n",
    "    all_hyp = []\n",
    "    iters =0\n",
    "    \n",
    "    vt0 =0\n",
    "    vt1 =0\n",
    "    \n",
    "    mt0 = 0\n",
    "    mt1 = 0\n",
    "\n",
    "    while(True):\n",
    "        \n",
    "        all_hyp.append(hyp(theta0,theta1,X))\n",
    "        # 1-calculate loss\n",
    "        cost_old = compute_cost(theta0,theta1,X,y,m)\n",
    "        # 2-calculate grads\n",
    "        dtheta0,dtheta1 = grads(theta0,theta1,X,y,m)\n",
    "        # 3-calculate vt\n",
    "        vt0,vt1,mt0,mt1 = vt_adam(vt0,vt1,mt0,mt1,dtheta0,dtheta1,b1,b2)\n",
    "        # 4-update params\n",
    "        theta0 , theta1 = update_params_adam(theta0,theta1,lr,vt0,vt1,mt0,mt1)\n",
    "        \n",
    "        theta0_list.append(theta0)\n",
    "        theta1_list.append(theta1)\n",
    "        \n",
    "        # calculate cost after update\n",
    "        cost_new = compute_cost(theta0,theta1,X,y,m)\n",
    "        costs.append(cost_new)\n",
    "        \n",
    "        iters += 1\n",
    "        \n",
    "        if(np.linalg.norm(np.array([dtheta0,dtheta1]))<=tolerance):\n",
    "            break\n",
    "        elif(abs(cost_new-cost_old)<=tolerance):\n",
    "            break\n",
    "        \n",
    "        return_dict = {\n",
    "            \"theta0\":theta0,\n",
    "            \"theta1\":theta1,\n",
    "            \"costs\":costs,\n",
    "            \"theta0_list\":theta0_list,\n",
    "            \"theta1_list\":theta1_list,\n",
    "            \"iters\":iters\n",
    "        }\n",
    "    return return_dict\n",
    "\n"
   ]
  },
  {
   "cell_type": "code",
   "execution_count": 53,
   "metadata": {},
   "outputs": [
    {
     "data": {
      "text/plain": [
       "(0.9264671908200263, -1.9947405228893518, 96)"
      ]
     },
     "execution_count": 53,
     "metadata": {},
     "output_type": "execute_result"
    }
   ],
   "source": [
    "output3 = fit_model_adam(x_vals,y_vals,0.1,1e-4,0.2,0.9)\n",
    "theta0,theta1,iters = output3[\"theta0\"],output3[\"theta1\"],output3[\"iters\"]\n",
    "theta0,theta1,iters"
   ]
  },
  {
   "cell_type": "code",
   "execution_count": 44,
   "metadata": {},
   "outputs": [
    {
     "data": {
      "text/plain": [
       "0.9967679244411439"
      ]
     },
     "execution_count": 44,
     "metadata": {},
     "output_type": "execute_result"
    }
   ],
   "source": [
    "predictions = hyp(output2[\"theta0\"],output2[\"theta1\"],x_vals)\n",
    "r2_score(predictions,y_vals)"
   ]
  },
  {
   "cell_type": "markdown",
   "metadata": {},
   "source": [
    "## Adam With bias correction"
   ]
  },
  {
   "cell_type": "code",
   "execution_count": 47,
   "metadata": {},
   "outputs": [],
   "source": [
    "def vt_adam_corrected(vt0_old,vt1_old,mt0_old,mt1_old,dtheta0,dtheta1,b1,b2):\n",
    "    mt0 = b1*mt0_old + (1-b1)*dtheta0\n",
    "    mt1 = b1*mt1_old + (1-b1)*dtheta1\n",
    "    \n",
    "    mt1 = mt1/(1-b1)\n",
    "    \n",
    "    vt0 = b2*vt0_old + (1-b2)*dtheta0**2\n",
    "    vt1 = b2*vt1_old + (1-b2)*dtheta1**2\n",
    "    \n",
    "    vt1 = vt1/(1-b2)\n",
    "    return vt0,vt1,mt0,mt1\n",
    "\n",
    "def update_params_adam(theta0,theta1,lr,vt0,vt1,mt0,mt1):\n",
    "    theta0 = theta0 - lr/np.sqrt(vt0+1e-8)*mt0\n",
    "    theta1 = theta1 - lr/np.sqrt(vt1+1e-8)*mt1\n",
    "    return theta0,theta1"
   ]
  },
  {
   "cell_type": "code",
   "execution_count": 48,
   "metadata": {},
   "outputs": [],
   "source": [
    "def fit_model_adam_corrected(X,y,lr,tolerance,b1,b2):\n",
    "    #intialize params\n",
    "    theta0,theta1,m = intialize_params(X)\n",
    "    \n",
    "    # values for plotting\n",
    "    costs = []\n",
    "    theta0_list = []\n",
    "    theta1_list = []\n",
    "    all_hyp = []\n",
    "    iters =0\n",
    "    \n",
    "    vt0 =0\n",
    "    vt1 =0\n",
    "    \n",
    "    mt0 = 0\n",
    "    mt1 = 0\n",
    "\n",
    "    while(True):\n",
    "        \n",
    "        all_hyp.append(hyp(theta0,theta1,X))\n",
    "        # 1-calculate loss\n",
    "        cost_old = compute_cost(theta0,theta1,X,y,m)\n",
    "        # 2-calculate grads\n",
    "        dtheta0,dtheta1 = grads(theta0,theta1,X,y,m)\n",
    "        # 3-calculate vt\n",
    "        vt0,vt1,mt0,mt1 = vt_adam(vt0,vt1,mt0,mt1,dtheta0,dtheta1,b1,b2)\n",
    "        # 4-update params\n",
    "        theta0 , theta1 = update_params_adam(theta0,theta1,lr,vt0,vt1,mt0,mt1)\n",
    "        \n",
    "        theta0_list.append(theta0)\n",
    "        theta1_list.append(theta1)\n",
    "        \n",
    "        # calculate cost after update\n",
    "        cost_new = compute_cost(theta0,theta1,X,y,m)\n",
    "        costs.append(cost_new)\n",
    "        \n",
    "        iters += 1\n",
    "        \n",
    "        if(np.linalg.norm(np.array([dtheta0,dtheta1]))<=tolerance):\n",
    "            break\n",
    "        elif(abs(cost_new-cost_old)<=tolerance):\n",
    "            break\n",
    "        \n",
    "        return_dict = {\n",
    "            \"theta0\":theta0,\n",
    "            \"theta1\":theta1,\n",
    "            \"costs\":costs,\n",
    "            \"theta0_list\":theta0_list,\n",
    "            \"theta1_list\":theta1_list,\n",
    "            \"iters\":iters\n",
    "        }\n",
    "    return return_dict\n",
    "\n"
   ]
  },
  {
   "cell_type": "code",
   "execution_count": 50,
   "metadata": {},
   "outputs": [
    {
     "data": {
      "text/plain": [
       "(0.9264671908200263, -1.9947405228893518, 96)"
      ]
     },
     "execution_count": 50,
     "metadata": {},
     "output_type": "execute_result"
    }
   ],
   "source": [
    "output4 = fit_model_adam_corrected(x_vals,y_vals,0.1,1e-4,0.2,0.9)\n",
    "theta0,theta1,iters = output4[\"theta0\"],output4[\"theta1\"],output4[\"iters\"]\n",
    "theta0,theta1,iters"
   ]
  },
  {
   "cell_type": "code",
   "execution_count": 67,
   "metadata": {},
   "outputs": [
    {
     "data": {
      "text/plain": [
       "0.999989872209097"
      ]
     },
     "execution_count": 67,
     "metadata": {},
     "output_type": "execute_result"
    }
   ],
   "source": [
    "predictions = hyp(output4[\"theta0\"],output4[\"theta1\"],x_vals)\n",
    "r2_score(predictions,y_vals)"
   ]
  },
  {
   "cell_type": "markdown",
   "metadata": {},
   "source": [
    "# test"
   ]
  },
  {
   "cell_type": "code",
   "execution_count": 77,
   "metadata": {},
   "outputs": [
    {
     "data": {
      "image/png": "[encoded data removed]",
      "text/plain": [
       "<Figure size 432x288 with 1 Axes>"
      ]
     },
     "metadata": {
      "needs_background": "light"
     },
     "output_type": "display_data"
    },
    {
     "name": "stdout",
     "output_type": "stream",
     "text": [
      "Number of examples in training set =  7200\n",
      "Number of examples in testing set =  800\n"
     ]
    },
    {
     "data": {
      "text/plain": [
       "array([[1.        , 5.41270449],\n",
       "       [1.        , 5.0158158 ],\n",
       "       [1.        , 6.08830289],\n",
       "       ...,\n",
       "       [1.        , 4.90192256],\n",
       "       [1.        , 5.22663939],\n",
       "       [1.        , 4.8901795 ]])"
      ]
     },
     "execution_count": 77,
     "metadata": {},
     "output_type": "execute_result"
    }
   ],
   "source": [
    "# creating data\n",
    "mean = np.array([5.0, 6.0])\n",
    "cov = np.array([[1.0, 0.95], [0.95, 1.2]])\n",
    "data = np.random.multivariate_normal(mean, cov, 8000)\n",
    "  \n",
    "# visualising data\n",
    "plt.scatter(data[:500, 0], data[:500, 1], marker = '.')\n",
    "plt.show()\n",
    "  \n",
    "# train-test-split\n",
    "data = np.hstack((np.ones((data.shape[0], 1)), data))\n",
    "  \n",
    "split_factor = 0.90\n",
    "split = int(split_factor * data.shape[0])\n",
    "  \n",
    "X_train = data[:split, :-1]\n",
    "y_train = data[:split, -1].reshape((-1, 1))\n",
    "X_test = data[split:, :-1]\n",
    "y_test = data[split:, -1].reshape((-1, 1))\n",
    "  \n",
    "print(\"Number of examples in training set = % d\"%(X_train.shape[0]))\n",
    "print(\"Number of examples in testing set = % d\"%(X_test.shape[0]))\n",
    "X_test"
   ]
  },
  {
   "cell_type": "code",
   "execution_count": 100,
   "metadata": {},
   "outputs": [
    {
     "data": {
      "text/plain": [
       "(1.0003833884397664, 0.9951119031988787, 16)"
      ]
     },
     "execution_count": 100,
     "metadata": {},
     "output_type": "execute_result"
    }
   ],
   "source": [
    "test_adam = fit_model_adam_corrected(X_train[:,1],y_train[:,0],0.1,1e-5,0.2,0.9)\n",
    "theta0,theta1,iters = test_adam[\"theta0\"],test_adam[\"theta1\"],test_adam[\"iters\"]\n",
    "theta0,theta1,iters"
   ]
  },
  {
   "cell_type": "code",
   "execution_count": 101,
   "metadata": {},
   "outputs": [
    {
     "data": {
      "text/plain": [
       "0.6480577466418029"
      ]
     },
     "execution_count": 101,
     "metadata": {},
     "output_type": "execute_result"
    }
   ],
   "source": [
    "predictions = hyp(test_adam[\"theta0\"],test_adam[\"theta1\"],X_test[:,1])\n",
    "r2_score(predictions,y_test[:,0])"
   ]
  },
  {
   "cell_type": "code",
   "execution_count": 102,
   "metadata": {},
   "outputs": [
    {
     "data": {
      "image/png": "[encoded data removed]",
      "text/plain": [
       "<Figure size 432x288 with 1 Axes>"
      ]
     },
     "metadata": {
      "needs_background": "light"
     },
     "output_type": "display_data"
    }
   ],
   "source": [
    "# creating data\n",
    "\n",
    "mean = np.array([5.0, 6.0])\n",
    "cov = np.array([[1.0, 0.95], [0.95, 1.2]])\n",
    "data = np.random.multivariate_normal(mean, cov, 8000)\n",
    "  \n",
    "# visualising data\n",
    "plt.scatter(data[:500, 0], data[:500, 1], marker = '.')\n",
    "\n",
    "plot_y = hyp(test_adam[\"theta0\"],test_adam[\"theta1\"],X_test[:,1])\n",
    "plt.plot(X_test[:,1],plot_y,color='red');\n",
    "  "
   ]
  },
  {
   "cell_type": "code",
   "execution_count": null,
   "metadata": {},
   "outputs": [],
   "source": []
  }
 ],
 "metadata": {
  "kernelspec": {
   "display_name": "Python 3",
   "language": "python",
   "name": "python3"
  },
  "language_info": {
   "codemirror_mode": {
    "name": "ipython",
    "version": 3
   },
   "file_extension": ".py",
   "mimetype": "text/x-python",
   "name": "python",
   "nbconvert_exporter": "python",
   "pygments_lexer": "ipython3",
   "version": "3.8.5"
  }
 },
 "nbformat": 4,
 "nbformat_minor": 4
}
